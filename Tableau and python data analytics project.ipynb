{
 "cells": [
  {
   "cell_type": "code",
   "id": "initial_id",
   "metadata": {
    "collapsed": true,
    "ExecuteTime": {
     "end_time": "2024-12-10T22:19:37.768058Z",
     "start_time": "2024-12-10T22:19:37.614935Z"
    }
   },
   "source": [
    "\n",
    "import pandas as pd\n",
    "import kaggle\n",
    "from pandas import value_counts\n"
   ],
   "outputs": [
    {
     "ename": "OSError",
     "evalue": "Could not find kaggle.json. Make sure it's located in C:\\Users\\jecip\\.kaggle. Or use the environment method. See setup instructions at https://github.com/Kaggle/kaggle-api/",
     "output_type": "error",
     "traceback": [
      "\u001B[1;31m---------------------------------------------------------------------------\u001B[0m",
      "\u001B[1;31mOSError\u001B[0m                                   Traceback (most recent call last)",
      "Cell \u001B[1;32mIn[31], line 2\u001B[0m\n\u001B[0;32m      1\u001B[0m \u001B[38;5;28;01mimport\u001B[39;00m \u001B[38;5;21;01mpandas\u001B[39;00m \u001B[38;5;28;01mas\u001B[39;00m \u001B[38;5;21;01mpd\u001B[39;00m\n\u001B[1;32m----> 2\u001B[0m \u001B[38;5;28;01mimport\u001B[39;00m \u001B[38;5;21;01mkaggle\u001B[39;00m\n\u001B[0;32m      3\u001B[0m \u001B[38;5;28;01mfrom\u001B[39;00m \u001B[38;5;21;01mpandas\u001B[39;00m \u001B[38;5;28;01mimport\u001B[39;00m value_counts\n",
      "File \u001B[1;32m~\\PycharmProjects\\pythonProject1\\.venv\\Lib\\site-packages\\kaggle\\__init__.py:7\u001B[0m\n\u001B[0;32m      4\u001B[0m \u001B[38;5;28;01mfrom\u001B[39;00m \u001B[38;5;21;01mkaggle\u001B[39;00m\u001B[38;5;21;01m.\u001B[39;00m\u001B[38;5;21;01mapi_client\u001B[39;00m \u001B[38;5;28;01mimport\u001B[39;00m ApiClient\n\u001B[0;32m      6\u001B[0m api \u001B[38;5;241m=\u001B[39m KaggleApi(ApiClient())\n\u001B[1;32m----> 7\u001B[0m \u001B[43mapi\u001B[49m\u001B[38;5;241;43m.\u001B[39;49m\u001B[43mauthenticate\u001B[49m\u001B[43m(\u001B[49m\u001B[43m)\u001B[49m\n",
      "File \u001B[1;32m~\\PycharmProjects\\pythonProject1\\.venv\\Lib\\site-packages\\kaggle\\api\\kaggle_api_extended.py:407\u001B[0m, in \u001B[0;36mKaggleApi.authenticate\u001B[1;34m(self)\u001B[0m\n\u001B[0;32m    405\u001B[0m         \u001B[38;5;28;01mreturn\u001B[39;00m\n\u001B[0;32m    406\u001B[0m     \u001B[38;5;28;01melse\u001B[39;00m:\n\u001B[1;32m--> 407\u001B[0m         \u001B[38;5;28;01mraise\u001B[39;00m \u001B[38;5;167;01mIOError\u001B[39;00m(\u001B[38;5;124m'\u001B[39m\u001B[38;5;124mCould not find \u001B[39m\u001B[38;5;132;01m{}\u001B[39;00m\u001B[38;5;124m. Make sure it\u001B[39m\u001B[38;5;130;01m\\'\u001B[39;00m\u001B[38;5;124ms located in\u001B[39m\u001B[38;5;124m'\u001B[39m\n\u001B[0;32m    408\u001B[0m                       \u001B[38;5;124m'\u001B[39m\u001B[38;5;124m \u001B[39m\u001B[38;5;132;01m{}\u001B[39;00m\u001B[38;5;124m. Or use the environment method. See setup\u001B[39m\u001B[38;5;124m'\u001B[39m\n\u001B[0;32m    409\u001B[0m                       \u001B[38;5;124m'\u001B[39m\u001B[38;5;124m instructions at\u001B[39m\u001B[38;5;124m'\u001B[39m\n\u001B[0;32m    410\u001B[0m                       \u001B[38;5;124m'\u001B[39m\u001B[38;5;124m https://github.com/Kaggle/kaggle-api/\u001B[39m\u001B[38;5;124m'\u001B[39m\u001B[38;5;241m.\u001B[39mformat(\n\u001B[0;32m    411\u001B[0m                           \u001B[38;5;28mself\u001B[39m\u001B[38;5;241m.\u001B[39mconfig_file, \u001B[38;5;28mself\u001B[39m\u001B[38;5;241m.\u001B[39mconfig_dir))\n\u001B[0;32m    413\u001B[0m \u001B[38;5;66;03m# Step 3: load into configuration!\u001B[39;00m\n\u001B[0;32m    414\u001B[0m \u001B[38;5;28mself\u001B[39m\u001B[38;5;241m.\u001B[39m_load_config(config_data)\n",
      "\u001B[1;31mOSError\u001B[0m: Could not find kaggle.json. Make sure it's located in C:\\Users\\jecip\\.kaggle. Or use the environment method. See setup instructions at https://github.com/Kaggle/kaggle-api/"
     ]
    }
   ],
   "execution_count": 31
  },
  {
   "metadata": {},
   "cell_type": "markdown",
   "source": "",
   "id": "8f87ae6666d8dad8"
  },
  {
   "metadata": {
    "ExecuteTime": {
     "end_time": "2024-12-10T22:19:37.861655100Z",
     "start_time": "2024-12-10T21:00:05.863745Z"
    }
   },
   "cell_type": "code",
   "source": "! kaggle datasets download -d hmavrodiev/london-bike-sharing-dataset",
   "id": "785b0cd4142969b5",
   "outputs": [
    {
     "name": "stdout",
     "output_type": "stream",
     "text": [
      "Dataset URL: https://www.kaggle.com/datasets/hmavrodiev/london-bike-sharing-dataset\n",
      "License(s): other\n",
      "Downloading london-bike-sharing-dataset.zip to C:\\Users\\jecip\\PycharmProjects\\pythonProject1\n",
      "\n"
     ]
    },
    {
     "name": "stderr",
     "output_type": "stream",
     "text": [
      "\n",
      "  0%|          | 0.00/165k [00:00<?, ?B/s]\n",
      "100%|##########| 165k/165k [00:00<00:00, 262kB/s]\n",
      "100%|##########| 165k/165k [00:00<00:00, 262kB/s]\n"
     ]
    }
   ],
   "execution_count": 2
  },
  {
   "metadata": {
    "ExecuteTime": {
     "end_time": "2024-12-10T22:19:37.861655100Z",
     "start_time": "2024-12-10T21:07:16.520429Z"
    }
   },
   "cell_type": "code",
   "source": [
    "#extract the file from the downloaded zip file\n",
    "zipfile_name = 'london-bike-sharing-dataset.zip'\n",
    "with zipfile.ZipFile(zipfile_name, 'r') as zip_ref:\n",
    "    zip_ref.extractall()\n",
    "    "
   ],
   "id": "505727e24a82ffe9",
   "outputs": [],
   "execution_count": 7
  },
  {
   "metadata": {
    "ExecuteTime": {
     "end_time": "2024-12-10T22:19:37.862647200Z",
     "start_time": "2024-12-10T21:12:25.139279Z"
    }
   },
   "cell_type": "code",
   "source": [
    "# read in the csv file as a pandas data frame\n",
    "bikes = pd.read_csv(\"london_merged.csv\")"
   ],
   "id": "417a61d94d87d136",
   "outputs": [],
   "execution_count": 11
  },
  {
   "metadata": {
    "ExecuteTime": {
     "end_time": "2024-12-10T22:21:17.253530Z",
     "start_time": "2024-12-10T22:21:17.234889Z"
    }
   },
   "cell_type": "code",
   "source": [
    "# explore the data\n",
    "bikes.info()"
   ],
   "id": "ed84e76478b08603",
   "outputs": [
    {
     "name": "stdout",
     "output_type": "stream",
     "text": [
      "<class 'pandas.core.frame.DataFrame'>\n",
      "RangeIndex: 17414 entries, 0 to 17413\n",
      "Data columns (total 10 columns):\n",
      " #   Column            Non-Null Count  Dtype  \n",
      "---  ------            --------------  -----  \n",
      " 0   time              17414 non-null  object \n",
      " 1   count             17414 non-null  int64  \n",
      " 2   temp_real_C       17414 non-null  float64\n",
      " 3   temp_real_Like_C  17414 non-null  float64\n",
      " 4   humidity_percent  17414 non-null  float64\n",
      " 5   wind_speed_kph    17414 non-null  float64\n",
      " 6   weather           0 non-null      object \n",
      " 7   is_holiday        17414 non-null  float64\n",
      " 8   is_weekend        17414 non-null  float64\n",
      " 9   season            0 non-null      object \n",
      "dtypes: float64(6), int64(1), object(3)\n",
      "memory usage: 1.3+ MB\n"
     ]
    }
   ],
   "execution_count": 32
  },
  {
   "metadata": {
    "ExecuteTime": {
     "end_time": "2024-12-10T22:21:24.286724Z",
     "start_time": "2024-12-10T22:21:24.277183Z"
    }
   },
   "cell_type": "code",
   "source": "bikes.shape",
   "id": "43ef19701cc6e431",
   "outputs": [
    {
     "data": {
      "text/plain": [
       "(17414, 10)"
      ]
     },
     "execution_count": 33,
     "metadata": {},
     "output_type": "execute_result"
    }
   ],
   "execution_count": 33
  },
  {
   "metadata": {
    "ExecuteTime": {
     "end_time": "2024-12-10T22:21:29.531543Z",
     "start_time": "2024-12-10T22:21:29.496118Z"
    }
   },
   "cell_type": "code",
   "source": "bikes",
   "id": "547926df9984d113",
   "outputs": [
    {
     "data": {
      "text/plain": [
       "                      time  count  temp_real_C  temp_real_Like_C  \\\n",
       "0      2015-01-04 00:00:00    182          3.0               2.0   \n",
       "1      2015-01-04 01:00:00    138          3.0               2.5   \n",
       "2      2015-01-04 02:00:00    134          2.5               2.5   \n",
       "3      2015-01-04 03:00:00     72          2.0               2.0   \n",
       "4      2015-01-04 04:00:00     47          2.0               0.0   \n",
       "...                    ...    ...          ...               ...   \n",
       "17409  2017-01-03 19:00:00   1042          5.0               1.0   \n",
       "17410  2017-01-03 20:00:00    541          5.0               1.0   \n",
       "17411  2017-01-03 21:00:00    337          5.5               1.5   \n",
       "17412  2017-01-03 22:00:00    224          5.5               1.5   \n",
       "17413  2017-01-03 23:00:00    139          5.0               1.0   \n",
       "\n",
       "       humidity_percent  wind_speed_kph weather  is_holiday  is_weekend season  \n",
       "0                 0.930             6.0     NaN         0.0         1.0    NaN  \n",
       "1                 0.930             5.0     NaN         0.0         1.0    NaN  \n",
       "2                 0.965             0.0     NaN         0.0         1.0    NaN  \n",
       "3                 1.000             0.0     NaN         0.0         1.0    NaN  \n",
       "4                 0.930             6.5     NaN         0.0         1.0    NaN  \n",
       "...                 ...             ...     ...         ...         ...    ...  \n",
       "17409             0.810            19.0     NaN         0.0         0.0    NaN  \n",
       "17410             0.810            21.0     NaN         0.0         0.0    NaN  \n",
       "17411             0.785            24.0     NaN         0.0         0.0    NaN  \n",
       "17412             0.760            23.0     NaN         0.0         0.0    NaN  \n",
       "17413             0.760            22.0     NaN         0.0         0.0    NaN  \n",
       "\n",
       "[17414 rows x 10 columns]"
      ],
      "text/html": [
       "<div>\n",
       "<style scoped>\n",
       "    .dataframe tbody tr th:only-of-type {\n",
       "        vertical-align: middle;\n",
       "    }\n",
       "\n",
       "    .dataframe tbody tr th {\n",
       "        vertical-align: top;\n",
       "    }\n",
       "\n",
       "    .dataframe thead th {\n",
       "        text-align: right;\n",
       "    }\n",
       "</style>\n",
       "<table border=\"1\" class=\"dataframe\">\n",
       "  <thead>\n",
       "    <tr style=\"text-align: right;\">\n",
       "      <th></th>\n",
       "      <th>time</th>\n",
       "      <th>count</th>\n",
       "      <th>temp_real_C</th>\n",
       "      <th>temp_real_Like_C</th>\n",
       "      <th>humidity_percent</th>\n",
       "      <th>wind_speed_kph</th>\n",
       "      <th>weather</th>\n",
       "      <th>is_holiday</th>\n",
       "      <th>is_weekend</th>\n",
       "      <th>season</th>\n",
       "    </tr>\n",
       "  </thead>\n",
       "  <tbody>\n",
       "    <tr>\n",
       "      <th>0</th>\n",
       "      <td>2015-01-04 00:00:00</td>\n",
       "      <td>182</td>\n",
       "      <td>3.0</td>\n",
       "      <td>2.0</td>\n",
       "      <td>0.930</td>\n",
       "      <td>6.0</td>\n",
       "      <td>NaN</td>\n",
       "      <td>0.0</td>\n",
       "      <td>1.0</td>\n",
       "      <td>NaN</td>\n",
       "    </tr>\n",
       "    <tr>\n",
       "      <th>1</th>\n",
       "      <td>2015-01-04 01:00:00</td>\n",
       "      <td>138</td>\n",
       "      <td>3.0</td>\n",
       "      <td>2.5</td>\n",
       "      <td>0.930</td>\n",
       "      <td>5.0</td>\n",
       "      <td>NaN</td>\n",
       "      <td>0.0</td>\n",
       "      <td>1.0</td>\n",
       "      <td>NaN</td>\n",
       "    </tr>\n",
       "    <tr>\n",
       "      <th>2</th>\n",
       "      <td>2015-01-04 02:00:00</td>\n",
       "      <td>134</td>\n",
       "      <td>2.5</td>\n",
       "      <td>2.5</td>\n",
       "      <td>0.965</td>\n",
       "      <td>0.0</td>\n",
       "      <td>NaN</td>\n",
       "      <td>0.0</td>\n",
       "      <td>1.0</td>\n",
       "      <td>NaN</td>\n",
       "    </tr>\n",
       "    <tr>\n",
       "      <th>3</th>\n",
       "      <td>2015-01-04 03:00:00</td>\n",
       "      <td>72</td>\n",
       "      <td>2.0</td>\n",
       "      <td>2.0</td>\n",
       "      <td>1.000</td>\n",
       "      <td>0.0</td>\n",
       "      <td>NaN</td>\n",
       "      <td>0.0</td>\n",
       "      <td>1.0</td>\n",
       "      <td>NaN</td>\n",
       "    </tr>\n",
       "    <tr>\n",
       "      <th>4</th>\n",
       "      <td>2015-01-04 04:00:00</td>\n",
       "      <td>47</td>\n",
       "      <td>2.0</td>\n",
       "      <td>0.0</td>\n",
       "      <td>0.930</td>\n",
       "      <td>6.5</td>\n",
       "      <td>NaN</td>\n",
       "      <td>0.0</td>\n",
       "      <td>1.0</td>\n",
       "      <td>NaN</td>\n",
       "    </tr>\n",
       "    <tr>\n",
       "      <th>...</th>\n",
       "      <td>...</td>\n",
       "      <td>...</td>\n",
       "      <td>...</td>\n",
       "      <td>...</td>\n",
       "      <td>...</td>\n",
       "      <td>...</td>\n",
       "      <td>...</td>\n",
       "      <td>...</td>\n",
       "      <td>...</td>\n",
       "      <td>...</td>\n",
       "    </tr>\n",
       "    <tr>\n",
       "      <th>17409</th>\n",
       "      <td>2017-01-03 19:00:00</td>\n",
       "      <td>1042</td>\n",
       "      <td>5.0</td>\n",
       "      <td>1.0</td>\n",
       "      <td>0.810</td>\n",
       "      <td>19.0</td>\n",
       "      <td>NaN</td>\n",
       "      <td>0.0</td>\n",
       "      <td>0.0</td>\n",
       "      <td>NaN</td>\n",
       "    </tr>\n",
       "    <tr>\n",
       "      <th>17410</th>\n",
       "      <td>2017-01-03 20:00:00</td>\n",
       "      <td>541</td>\n",
       "      <td>5.0</td>\n",
       "      <td>1.0</td>\n",
       "      <td>0.810</td>\n",
       "      <td>21.0</td>\n",
       "      <td>NaN</td>\n",
       "      <td>0.0</td>\n",
       "      <td>0.0</td>\n",
       "      <td>NaN</td>\n",
       "    </tr>\n",
       "    <tr>\n",
       "      <th>17411</th>\n",
       "      <td>2017-01-03 21:00:00</td>\n",
       "      <td>337</td>\n",
       "      <td>5.5</td>\n",
       "      <td>1.5</td>\n",
       "      <td>0.785</td>\n",
       "      <td>24.0</td>\n",
       "      <td>NaN</td>\n",
       "      <td>0.0</td>\n",
       "      <td>0.0</td>\n",
       "      <td>NaN</td>\n",
       "    </tr>\n",
       "    <tr>\n",
       "      <th>17412</th>\n",
       "      <td>2017-01-03 22:00:00</td>\n",
       "      <td>224</td>\n",
       "      <td>5.5</td>\n",
       "      <td>1.5</td>\n",
       "      <td>0.760</td>\n",
       "      <td>23.0</td>\n",
       "      <td>NaN</td>\n",
       "      <td>0.0</td>\n",
       "      <td>0.0</td>\n",
       "      <td>NaN</td>\n",
       "    </tr>\n",
       "    <tr>\n",
       "      <th>17413</th>\n",
       "      <td>2017-01-03 23:00:00</td>\n",
       "      <td>139</td>\n",
       "      <td>5.0</td>\n",
       "      <td>1.0</td>\n",
       "      <td>0.760</td>\n",
       "      <td>22.0</td>\n",
       "      <td>NaN</td>\n",
       "      <td>0.0</td>\n",
       "      <td>0.0</td>\n",
       "      <td>NaN</td>\n",
       "    </tr>\n",
       "  </tbody>\n",
       "</table>\n",
       "<p>17414 rows × 10 columns</p>\n",
       "</div>"
      ]
     },
     "execution_count": 34,
     "metadata": {},
     "output_type": "execute_result"
    }
   ],
   "execution_count": 34
  },
  {
   "metadata": {
    "ExecuteTime": {
     "end_time": "2024-12-10T22:19:37.916887300Z",
     "start_time": "2024-12-10T21:24:04.110884Z"
    }
   },
   "cell_type": "code",
   "source": [
    "#count the unique values in the weather_code column\n",
    "bikes.weather_code.value_counts()"
   ],
   "id": "279dbd4803f83548",
   "outputs": [
    {
     "data": {
      "text/plain": [
       "weather_code\n",
       "1.0     6150\n",
       "2.0     4034\n",
       "3.0     3551\n",
       "7.0     2141\n",
       "4.0     1464\n",
       "26.0      60\n",
       "10.0      14\n",
       "Name: count, dtype: int64"
      ]
     },
     "execution_count": 16,
     "metadata": {},
     "output_type": "execute_result"
    }
   ],
   "execution_count": 16
  },
  {
   "metadata": {
    "ExecuteTime": {
     "end_time": "2024-12-10T22:19:37.917911100Z",
     "start_time": "2024-12-10T21:26:13.608066Z"
    }
   },
   "cell_type": "code",
   "source": [
    "# count the unique values im season column\n",
    "bikes.season.value_counts()"
   ],
   "id": "d41758adda9d4178",
   "outputs": [
    {
     "data": {
      "text/plain": [
       "season\n",
       "0.0    4394\n",
       "1.0    4387\n",
       "3.0    4330\n",
       "2.0    4303\n",
       "Name: count, dtype: int64"
      ]
     },
     "execution_count": 18,
     "metadata": {},
     "output_type": "execute_result"
    }
   ],
   "execution_count": 18
  },
  {
   "metadata": {
    "ExecuteTime": {
     "end_time": "2024-12-10T22:19:37.917911100Z",
     "start_time": "2024-12-10T22:19:26.229945Z"
    }
   },
   "cell_type": "code",
   "source": "bikes.info()",
   "id": "1305672030d95f55",
   "outputs": [
    {
     "name": "stdout",
     "output_type": "stream",
     "text": [
      "<class 'pandas.core.frame.DataFrame'>\n",
      "RangeIndex: 17414 entries, 0 to 17413\n",
      "Data columns (total 10 columns):\n",
      " #   Column            Non-Null Count  Dtype  \n",
      "---  ------            --------------  -----  \n",
      " 0   time              17414 non-null  object \n",
      " 1   count             17414 non-null  int64  \n",
      " 2   temp_real_C       17414 non-null  float64\n",
      " 3   temp_real_Like_C  17414 non-null  float64\n",
      " 4   humidity_percent  17414 non-null  float64\n",
      " 5   wind_speed_kph    17414 non-null  float64\n",
      " 6   weather           0 non-null      object \n",
      " 7   is_holiday        17414 non-null  float64\n",
      " 8   is_weekend        17414 non-null  float64\n",
      " 9   season            0 non-null      object \n",
      "dtypes: float64(6), int64(1), object(3)\n",
      "memory usage: 1.3+ MB\n"
     ]
    }
   ],
   "execution_count": 30
  },
  {
   "metadata": {},
   "cell_type": "markdown",
   "source": "bikes.info()",
   "id": "fc1a2d03d8e38dd4"
  },
  {
   "metadata": {
    "ExecuteTime": {
     "end_time": "2024-12-10T22:19:37.917911100Z",
     "start_time": "2024-12-10T22:15:29.889016Z"
    }
   },
   "cell_type": "code",
   "source": [
    "# specifying the column names that i want to use\n",
    "new_cols_dict ={\n",
    "'timestamp':'time',\n",
    "'cnt':'count',\n",
    "'t1':'temp_real_C',\n",
    "'t2':'temp_real_Like_C',\n",
    "'hum':'humidity_percent',\n",
    "'wind_speed':'wind_speed_kph',\n",
    "'weather_code':'weather',\n",
    "'is_holiday':'is_holiday',\n",
    "'is_weekend':'is_weekend',\n",
    "'season':'season',\n",
    "    \n",
    "}\n",
    "\n",
    "#renaming the columns ton the specified columns names\n",
    "bikes.rename(new_cols_dict, axis=1, inplace=True)\n",
    "\n"
   ],
   "id": "39baa88413c0ac4f",
   "outputs": [],
   "execution_count": 28
  },
  {
   "metadata": {
    "ExecuteTime": {
     "end_time": "2024-12-10T22:19:37.918908700Z",
     "start_time": "2024-12-10T22:15:35.412333Z"
    }
   },
   "cell_type": "code",
   "source": "bikes.info()",
   "id": "e698cf39fdf56c84",
   "outputs": [
    {
     "name": "stdout",
     "output_type": "stream",
     "text": [
      "<class 'pandas.core.frame.DataFrame'>\n",
      "RangeIndex: 17414 entries, 0 to 17413\n",
      "Data columns (total 10 columns):\n",
      " #   Column            Non-Null Count  Dtype  \n",
      "---  ------            --------------  -----  \n",
      " 0   time              17414 non-null  object \n",
      " 1   count             17414 non-null  int64  \n",
      " 2   temp_real_C       17414 non-null  float64\n",
      " 3   temp_real_Like_C  17414 non-null  float64\n",
      " 4   humidity_percent  17414 non-null  float64\n",
      " 5   wind_speed_kph    17414 non-null  float64\n",
      " 6   weather           0 non-null      object \n",
      " 7   is_holiday        17414 non-null  float64\n",
      " 8   is_weekend        17414 non-null  float64\n",
      " 9   season            0 non-null      object \n",
      "dtypes: float64(6), int64(1), object(3)\n",
      "memory usage: 1.3+ MB\n"
     ]
    }
   ],
   "execution_count": 29
  },
  {
   "metadata": {
    "ExecuteTime": {
     "end_time": "2024-12-10T22:19:37.918908700Z",
     "start_time": "2024-12-10T22:08:06.552961Z"
    }
   },
   "cell_type": "code",
   "source": "bikes",
   "id": "770fb61e32368bb1",
   "outputs": [
    {
     "data": {
      "text/plain": [
       "                      time  count  temp_real_C  temp_real_Like_C  \\\n",
       "0      2015-01-04 00:00:00    182          3.0               2.0   \n",
       "1      2015-01-04 01:00:00    138          3.0               2.5   \n",
       "2      2015-01-04 02:00:00    134          2.5               2.5   \n",
       "3      2015-01-04 03:00:00     72          2.0               2.0   \n",
       "4      2015-01-04 04:00:00     47          2.0               0.0   \n",
       "...                    ...    ...          ...               ...   \n",
       "17409  2017-01-03 19:00:00   1042          5.0               1.0   \n",
       "17410  2017-01-03 20:00:00    541          5.0               1.0   \n",
       "17411  2017-01-03 21:00:00    337          5.5               1.5   \n",
       "17412  2017-01-03 22:00:00    224          5.5               1.5   \n",
       "17413  2017-01-03 23:00:00    139          5.0               1.0   \n",
       "\n",
       "       humidity_percent  wind_speed_kph weather  is_holiday  is_weekend season  \n",
       "0                 0.930             6.0     NaN         0.0         1.0    NaN  \n",
       "1                 0.930             5.0     NaN         0.0         1.0    NaN  \n",
       "2                 0.965             0.0     NaN         0.0         1.0    NaN  \n",
       "3                 1.000             0.0     NaN         0.0         1.0    NaN  \n",
       "4                 0.930             6.5     NaN         0.0         1.0    NaN  \n",
       "...                 ...             ...     ...         ...         ...    ...  \n",
       "17409             0.810            19.0     NaN         0.0         0.0    NaN  \n",
       "17410             0.810            21.0     NaN         0.0         0.0    NaN  \n",
       "17411             0.785            24.0     NaN         0.0         0.0    NaN  \n",
       "17412             0.760            23.0     NaN         0.0         0.0    NaN  \n",
       "17413             0.760            22.0     NaN         0.0         0.0    NaN  \n",
       "\n",
       "[17414 rows x 10 columns]"
      ],
      "text/html": [
       "<div>\n",
       "<style scoped>\n",
       "    .dataframe tbody tr th:only-of-type {\n",
       "        vertical-align: middle;\n",
       "    }\n",
       "\n",
       "    .dataframe tbody tr th {\n",
       "        vertical-align: top;\n",
       "    }\n",
       "\n",
       "    .dataframe thead th {\n",
       "        text-align: right;\n",
       "    }\n",
       "</style>\n",
       "<table border=\"1\" class=\"dataframe\">\n",
       "  <thead>\n",
       "    <tr style=\"text-align: right;\">\n",
       "      <th></th>\n",
       "      <th>time</th>\n",
       "      <th>count</th>\n",
       "      <th>temp_real_C</th>\n",
       "      <th>temp_real_Like_C</th>\n",
       "      <th>humidity_percent</th>\n",
       "      <th>wind_speed_kph</th>\n",
       "      <th>weather</th>\n",
       "      <th>is_holiday</th>\n",
       "      <th>is_weekend</th>\n",
       "      <th>season</th>\n",
       "    </tr>\n",
       "  </thead>\n",
       "  <tbody>\n",
       "    <tr>\n",
       "      <th>0</th>\n",
       "      <td>2015-01-04 00:00:00</td>\n",
       "      <td>182</td>\n",
       "      <td>3.0</td>\n",
       "      <td>2.0</td>\n",
       "      <td>0.930</td>\n",
       "      <td>6.0</td>\n",
       "      <td>NaN</td>\n",
       "      <td>0.0</td>\n",
       "      <td>1.0</td>\n",
       "      <td>NaN</td>\n",
       "    </tr>\n",
       "    <tr>\n",
       "      <th>1</th>\n",
       "      <td>2015-01-04 01:00:00</td>\n",
       "      <td>138</td>\n",
       "      <td>3.0</td>\n",
       "      <td>2.5</td>\n",
       "      <td>0.930</td>\n",
       "      <td>5.0</td>\n",
       "      <td>NaN</td>\n",
       "      <td>0.0</td>\n",
       "      <td>1.0</td>\n",
       "      <td>NaN</td>\n",
       "    </tr>\n",
       "    <tr>\n",
       "      <th>2</th>\n",
       "      <td>2015-01-04 02:00:00</td>\n",
       "      <td>134</td>\n",
       "      <td>2.5</td>\n",
       "      <td>2.5</td>\n",
       "      <td>0.965</td>\n",
       "      <td>0.0</td>\n",
       "      <td>NaN</td>\n",
       "      <td>0.0</td>\n",
       "      <td>1.0</td>\n",
       "      <td>NaN</td>\n",
       "    </tr>\n",
       "    <tr>\n",
       "      <th>3</th>\n",
       "      <td>2015-01-04 03:00:00</td>\n",
       "      <td>72</td>\n",
       "      <td>2.0</td>\n",
       "      <td>2.0</td>\n",
       "      <td>1.000</td>\n",
       "      <td>0.0</td>\n",
       "      <td>NaN</td>\n",
       "      <td>0.0</td>\n",
       "      <td>1.0</td>\n",
       "      <td>NaN</td>\n",
       "    </tr>\n",
       "    <tr>\n",
       "      <th>4</th>\n",
       "      <td>2015-01-04 04:00:00</td>\n",
       "      <td>47</td>\n",
       "      <td>2.0</td>\n",
       "      <td>0.0</td>\n",
       "      <td>0.930</td>\n",
       "      <td>6.5</td>\n",
       "      <td>NaN</td>\n",
       "      <td>0.0</td>\n",
       "      <td>1.0</td>\n",
       "      <td>NaN</td>\n",
       "    </tr>\n",
       "    <tr>\n",
       "      <th>...</th>\n",
       "      <td>...</td>\n",
       "      <td>...</td>\n",
       "      <td>...</td>\n",
       "      <td>...</td>\n",
       "      <td>...</td>\n",
       "      <td>...</td>\n",
       "      <td>...</td>\n",
       "      <td>...</td>\n",
       "      <td>...</td>\n",
       "      <td>...</td>\n",
       "    </tr>\n",
       "    <tr>\n",
       "      <th>17409</th>\n",
       "      <td>2017-01-03 19:00:00</td>\n",
       "      <td>1042</td>\n",
       "      <td>5.0</td>\n",
       "      <td>1.0</td>\n",
       "      <td>0.810</td>\n",
       "      <td>19.0</td>\n",
       "      <td>NaN</td>\n",
       "      <td>0.0</td>\n",
       "      <td>0.0</td>\n",
       "      <td>NaN</td>\n",
       "    </tr>\n",
       "    <tr>\n",
       "      <th>17410</th>\n",
       "      <td>2017-01-03 20:00:00</td>\n",
       "      <td>541</td>\n",
       "      <td>5.0</td>\n",
       "      <td>1.0</td>\n",
       "      <td>0.810</td>\n",
       "      <td>21.0</td>\n",
       "      <td>NaN</td>\n",
       "      <td>0.0</td>\n",
       "      <td>0.0</td>\n",
       "      <td>NaN</td>\n",
       "    </tr>\n",
       "    <tr>\n",
       "      <th>17411</th>\n",
       "      <td>2017-01-03 21:00:00</td>\n",
       "      <td>337</td>\n",
       "      <td>5.5</td>\n",
       "      <td>1.5</td>\n",
       "      <td>0.785</td>\n",
       "      <td>24.0</td>\n",
       "      <td>NaN</td>\n",
       "      <td>0.0</td>\n",
       "      <td>0.0</td>\n",
       "      <td>NaN</td>\n",
       "    </tr>\n",
       "    <tr>\n",
       "      <th>17412</th>\n",
       "      <td>2017-01-03 22:00:00</td>\n",
       "      <td>224</td>\n",
       "      <td>5.5</td>\n",
       "      <td>1.5</td>\n",
       "      <td>0.760</td>\n",
       "      <td>23.0</td>\n",
       "      <td>NaN</td>\n",
       "      <td>0.0</td>\n",
       "      <td>0.0</td>\n",
       "      <td>NaN</td>\n",
       "    </tr>\n",
       "    <tr>\n",
       "      <th>17413</th>\n",
       "      <td>2017-01-03 23:00:00</td>\n",
       "      <td>139</td>\n",
       "      <td>5.0</td>\n",
       "      <td>1.0</td>\n",
       "      <td>0.760</td>\n",
       "      <td>22.0</td>\n",
       "      <td>NaN</td>\n",
       "      <td>0.0</td>\n",
       "      <td>0.0</td>\n",
       "      <td>NaN</td>\n",
       "    </tr>\n",
       "  </tbody>\n",
       "</table>\n",
       "<p>17414 rows × 10 columns</p>\n",
       "</div>"
      ]
     },
     "execution_count": 26,
     "metadata": {},
     "output_type": "execute_result"
    }
   ],
   "execution_count": 26
  },
  {
   "metadata": {
    "ExecuteTime": {
     "end_time": "2024-12-10T22:19:37.919912200Z",
     "start_time": "2024-12-10T21:44:26.969880Z"
    }
   },
   "cell_type": "code",
   "source": [
    "#changing the humidity values to percentage (i.e a value between 0 and 1)\n",
    "bikes.humidity_percent = bikes.humidity_percent / 100"
   ],
   "id": "4fb43e35118d6228",
   "outputs": [],
   "execution_count": 21
  },
  {
   "metadata": {
    "ExecuteTime": {
     "end_time": "2024-12-10T22:48:51.468772Z",
     "start_time": "2024-12-10T22:48:51.443498Z"
    }
   },
   "cell_type": "code",
   "source": [
    "# creating a season dictionary so that we can map integers 0-3 to the actual written values\n",
    "season_dict = {\n",
    "    '0.0':'spring',\n",
    "    '1.0':'summer',\n",
    "    '2.0':'autumn',\n",
    "    '3.0':'winter',  \n",
    "}\n",
    "\n",
    "#creating a weather dictionary so that we can map the intergers to th actual written values\n",
    "weather_dict ={\n",
    "    '1.0':'Clear',\n",
    "    '2.0':'Scattered clouds',\n",
    "    '3.0':'Broken clouds',\n",
    "    '4.0':'Cloudy',\n",
    "    '7.0':'Rain',\n",
    "    '10.0':'Rain with thunderstorm',\n",
    "    '26.0':'Snowfall'\n",
    "    \n",
    "}\n",
    "\n",
    "\n",
    "if 'season' in bikes.columns and 'weather' in bikes.columns:\n",
    "    bikes.season = bikes.season.astype('str').map(season_dict)\n",
    "    bikes.weather = bikes.weather.astype('str').map(weather_dict)\n",
    "#Changing the seasons columns data type to string\n",
    "#bikes.season = bikes.season.astype('str')\n",
    "#mapping the values 0-3 to the actual written seasons\n",
    "#bikes.season = bikes.season.map(season_dict)\n",
    "\n",
    "#Changing the weather columns data type to string\n",
    "\n",
    "#bikes.weather=bikes.weather.astype('str')\n",
    "#mapping the values to the actual written weathers\n",
    "#bikes.weather = bikes.weather.map(weather_dict)\n",
    "\n"
   ],
   "id": "ae2d2d761b13876d",
   "outputs": [],
   "execution_count": 35
  },
  {
   "metadata": {
    "ExecuteTime": {
     "end_time": "2024-12-10T22:50:39.681524Z",
     "start_time": "2024-12-10T22:50:39.673430Z"
    }
   },
   "cell_type": "code",
   "source": [
    "# Ensure the weather column exists and convert it to string type\n",
    "if 'weather' in bikes.columns:\n",
    "    bikes['weather'] = bikes['weather'].astype(str)\n"
   ],
   "id": "59bec2e914fcc58f",
   "outputs": [],
   "execution_count": 37
  },
  {
   "metadata": {
    "ExecuteTime": {
     "end_time": "2024-12-10T22:50:42.391244Z",
     "start_time": "2024-12-10T22:50:42.375162Z"
    }
   },
   "cell_type": "code",
   "source": [
    "# checking the dataframe to see if the changes have reflected\n",
    "bikes.head()"
   ],
   "id": "4940bea6baa5eff6",
   "outputs": [
    {
     "data": {
      "text/plain": [
       "                  time  count  temp_real_C  temp_real_Like_C  \\\n",
       "0  2015-01-04 00:00:00    182          3.0               2.0   \n",
       "1  2015-01-04 01:00:00    138          3.0               2.5   \n",
       "2  2015-01-04 02:00:00    134          2.5               2.5   \n",
       "3  2015-01-04 03:00:00     72          2.0               2.0   \n",
       "4  2015-01-04 04:00:00     47          2.0               0.0   \n",
       "\n",
       "   humidity_percent  wind_speed_kph weather  is_holiday  is_weekend season  \n",
       "0             0.930             6.0     nan         0.0         1.0    NaN  \n",
       "1             0.930             5.0     nan         0.0         1.0    NaN  \n",
       "2             0.965             0.0     nan         0.0         1.0    NaN  \n",
       "3             1.000             0.0     nan         0.0         1.0    NaN  \n",
       "4             0.930             6.5     nan         0.0         1.0    NaN  "
      ],
      "text/html": [
       "<div>\n",
       "<style scoped>\n",
       "    .dataframe tbody tr th:only-of-type {\n",
       "        vertical-align: middle;\n",
       "    }\n",
       "\n",
       "    .dataframe tbody tr th {\n",
       "        vertical-align: top;\n",
       "    }\n",
       "\n",
       "    .dataframe thead th {\n",
       "        text-align: right;\n",
       "    }\n",
       "</style>\n",
       "<table border=\"1\" class=\"dataframe\">\n",
       "  <thead>\n",
       "    <tr style=\"text-align: right;\">\n",
       "      <th></th>\n",
       "      <th>time</th>\n",
       "      <th>count</th>\n",
       "      <th>temp_real_C</th>\n",
       "      <th>temp_real_Like_C</th>\n",
       "      <th>humidity_percent</th>\n",
       "      <th>wind_speed_kph</th>\n",
       "      <th>weather</th>\n",
       "      <th>is_holiday</th>\n",
       "      <th>is_weekend</th>\n",
       "      <th>season</th>\n",
       "    </tr>\n",
       "  </thead>\n",
       "  <tbody>\n",
       "    <tr>\n",
       "      <th>0</th>\n",
       "      <td>2015-01-04 00:00:00</td>\n",
       "      <td>182</td>\n",
       "      <td>3.0</td>\n",
       "      <td>2.0</td>\n",
       "      <td>0.930</td>\n",
       "      <td>6.0</td>\n",
       "      <td>nan</td>\n",
       "      <td>0.0</td>\n",
       "      <td>1.0</td>\n",
       "      <td>NaN</td>\n",
       "    </tr>\n",
       "    <tr>\n",
       "      <th>1</th>\n",
       "      <td>2015-01-04 01:00:00</td>\n",
       "      <td>138</td>\n",
       "      <td>3.0</td>\n",
       "      <td>2.5</td>\n",
       "      <td>0.930</td>\n",
       "      <td>5.0</td>\n",
       "      <td>nan</td>\n",
       "      <td>0.0</td>\n",
       "      <td>1.0</td>\n",
       "      <td>NaN</td>\n",
       "    </tr>\n",
       "    <tr>\n",
       "      <th>2</th>\n",
       "      <td>2015-01-04 02:00:00</td>\n",
       "      <td>134</td>\n",
       "      <td>2.5</td>\n",
       "      <td>2.5</td>\n",
       "      <td>0.965</td>\n",
       "      <td>0.0</td>\n",
       "      <td>nan</td>\n",
       "      <td>0.0</td>\n",
       "      <td>1.0</td>\n",
       "      <td>NaN</td>\n",
       "    </tr>\n",
       "    <tr>\n",
       "      <th>3</th>\n",
       "      <td>2015-01-04 03:00:00</td>\n",
       "      <td>72</td>\n",
       "      <td>2.0</td>\n",
       "      <td>2.0</td>\n",
       "      <td>1.000</td>\n",
       "      <td>0.0</td>\n",
       "      <td>nan</td>\n",
       "      <td>0.0</td>\n",
       "      <td>1.0</td>\n",
       "      <td>NaN</td>\n",
       "    </tr>\n",
       "    <tr>\n",
       "      <th>4</th>\n",
       "      <td>2015-01-04 04:00:00</td>\n",
       "      <td>47</td>\n",
       "      <td>2.0</td>\n",
       "      <td>0.0</td>\n",
       "      <td>0.930</td>\n",
       "      <td>6.5</td>\n",
       "      <td>nan</td>\n",
       "      <td>0.0</td>\n",
       "      <td>1.0</td>\n",
       "      <td>NaN</td>\n",
       "    </tr>\n",
       "  </tbody>\n",
       "</table>\n",
       "</div>"
      ]
     },
     "execution_count": 38,
     "metadata": {},
     "output_type": "execute_result"
    }
   ],
   "execution_count": 38
  }
 ],
 "metadata": {
  "kernelspec": {
   "display_name": "Python 3",
   "language": "python",
   "name": "python3"
  },
  "language_info": {
   "codemirror_mode": {
    "name": "ipython",
    "version": 2
   },
   "file_extension": ".py",
   "mimetype": "text/x-python",
   "name": "python",
   "nbconvert_exporter": "python",
   "pygments_lexer": "ipython2",
   "version": "2.7.6"
  }
 },
 "nbformat": 4,
 "nbformat_minor": 5
}
